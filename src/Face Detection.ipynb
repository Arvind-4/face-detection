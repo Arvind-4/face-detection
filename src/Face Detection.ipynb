{
 "cells": [
  {
   "cell_type": "code",
   "execution_count": null,
   "id": "5a4025b4",
   "metadata": {},
   "outputs": [],
   "source": [
    "# Install the Dependencies\n",
    "%pip install opencv-python matplotlib torch kornia"
   ]
  },
  {
   "cell_type": "code",
   "execution_count": null,
   "id": "caeaa164",
   "metadata": {},
   "outputs": [],
   "source": [
    "# Import Dependencies\n",
    "import cv2\n",
    "import numpy as np\n",
    "import matplotlib.pyplot as plt\n",
    "import torch\n",
    "import kornia as K\n",
    "import pathlib\n",
    "from kornia.contrib import FaceDetector, FaceDetectorResult"
   ]
  },
  {
   "cell_type": "code",
   "execution_count": null,
   "id": "b84b9f58",
   "metadata": {},
   "outputs": [],
   "source": [
    "# Get the Image File\n",
    "BASE_DIR = pathlib.Path().resolve(strict=True).parent\n",
    "IMAGE_DIR = BASE_DIR / \"images\"\n",
    "IMAGE_FILE = IMAGE_DIR / \"image.jpg\""
   ]
  },
  {
   "cell_type": "code",
   "execution_count": null,
   "id": "fac3537c",
   "metadata": {},
   "outputs": [],
   "source": [
    "# Select the Device and Type\n",
    "device = torch.device('cpu')  # use 'cuda:0'\n",
    "dtype = torch.float32"
   ]
  },
  {
   "cell_type": "code",
   "execution_count": null,
   "id": "1ca08fdc",
   "metadata": {},
   "outputs": [],
   "source": [
    "# Load the Image and Scale (if needed)\n",
    "img_raw = cv2.imread(str(IMAGE_FILE), cv2.IMREAD_COLOR)"
   ]
  },
  {
   "cell_type": "code",
   "execution_count": null,
   "id": "82e34d1e",
   "metadata": {},
   "outputs": [],
   "source": [
    "# Preprocess the Image\n",
    "img = K.image_to_tensor(img_raw, keepdim=False).to(device, dtype)\n",
    "img = K.color.bgr_to_rgb(img)\n",
    "img_vis = K.tensor_to_image(img.byte().clone())"
   ]
  },
  {
   "cell_type": "code",
   "execution_count": null,
   "id": "026bd2e0",
   "metadata": {},
   "outputs": [],
   "source": [
    "# Show the Image\n",
    "plt.figure(figsize=(8, 8))\n",
    "plt.imshow(K.tensor_to_image(img.byte()))\n",
    "plt.axis('off')"
   ]
  },
  {
   "cell_type": "code",
   "execution_count": null,
   "id": "d9908dbe",
   "metadata": {},
   "outputs": [],
   "source": [
    "# Face Detection\n",
    "face_detection = FaceDetector().to(device, dtype)\n",
    "\n",
    "with torch.no_grad():\n",
    "    dets = face_detection(img)\n",
    "\n",
    "# To Decode Later the Detections\n",
    "dets = [FaceDetectorResult(o) for o in dets]"
   ]
  },
  {
   "cell_type": "code",
   "execution_count": null,
   "id": "e927ca92",
   "metadata": {},
   "outputs": [],
   "source": [
    "for b in dets:\n",
    "    if b.score < 0.6:\n",
    "        continue\n",
    "    \n",
    "    # Draw Face Bounding Box around each Detected Face\n",
    "    x1, y1 = b.top_left.int().tolist()\n",
    "    x2, y2 = b.bottom_right.int().tolist()\n",
    "    img_vis = cv2.rectangle(img_vis, (x1, y1), (x2, y2), (0, 255, 0), 4)\n",
    "\n",
    "plt.figure(figsize=(8, 8))\n",
    "plt.imshow(img_vis)\n",
    "plt.axis('off')"
   ]
  }
 ],
 "metadata": {
  "kernelspec": {
   "display_name": "Python 3 (ipykernel)",
   "language": "python",
   "name": "python3"
  },
  "language_info": {
   "codemirror_mode": {
    "name": "ipython",
    "version": 3
   },
   "file_extension": ".py",
   "mimetype": "text/x-python",
   "name": "python",
   "nbconvert_exporter": "python",
   "pygments_lexer": "ipython3",
   "version": "3.9.14"
  }
 },
 "nbformat": 4,
 "nbformat_minor": 5
}
